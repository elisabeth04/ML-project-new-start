{
 "cells": [
  {
   "cell_type": "code",
   "execution_count": 1,
   "metadata": {},
   "outputs": [],
   "source": [
    "import numpy as np\n",
    "import helper\n",
    "from matplotlib import pyplot as plt\n",
    "from tensorflow_addons.metrics import HammingLoss\n",
    "from tensorflow.keras.losses import CosineSimilarity\n"
   ]
  },
  {
   "cell_type": "markdown",
   "metadata": {},
   "source": [
    "## Load Preprocessed Data"
   ]
  },
  {
   "cell_type": "code",
   "execution_count": 2,
   "metadata": {},
   "outputs": [],
   "source": [
    "data = np.load('../preprocessing/preprocessed_oh.npz' ,allow_pickle= True)\n",
    "\n",
    "text_vec = data['text_word2vec']\n",
    "summary_vec = data['summary_word2vec']\n",
    "text_existence = data['text_existence']\n",
    "text_count = data['text_count']\n",
    "summary_existence = data['summary_existence']\n",
    "summary_count = data['summary_count']\n",
    "labels = data[\"labels\"]\n",
    "text_voc_size = data['text_voc_size']\n",
    "sum_voc_size = data['summary_voc_size']"
   ]
  },
  {
   "cell_type": "code",
   "execution_count": 3,
   "metadata": {},
   "outputs": [
    {
     "name": "stdout",
     "output_type": "stream",
     "text": [
      "Model: \"model\"\n",
      "_________________________________________________________________\n",
      " Layer (type)                Output Shape              Param #   \n",
      "=================================================================\n",
      " input_1 (InputLayer)        [(None, 35560)]           0         \n",
      "                                                                 \n",
      " dense (Dense)               (None, 2)                 71122     \n",
      "                                                                 \n",
      " dense_1 (Dense)             (None, 17780)             53340     \n",
      "                                                                 \n",
      " dense_2 (Dense)             (None, 35560)             632292360 \n",
      "                                                                 \n",
      "=================================================================\n",
      "Total params: 632,416,822\n",
      "Trainable params: 632,416,822\n",
      "Non-trainable params: 0\n",
      "_________________________________________________________________\n",
      "Epoch 1/7\n",
      " 1/16 [>.............................] - ETA: 1:25:33 - loss: 0.1812"
     ]
    }
   ],
   "source": [
    "input_size = sum_voc_size\n",
    "code_size = 2\n",
    "\n",
    "\n",
    "nonlinear_ae_com, nonlinear_encoder_com = helper.nonlinear_autoencoder_complex(input_size, code_size, \"mse\")\n",
    "history3 = nonlinear_ae_com.fit(summary_existence,summary_existence, epochs = 7)\n",
    "plt.plot(history3.history[\"loss\"])"
   ]
  },
  {
   "cell_type": "code",
   "execution_count": null,
   "metadata": {},
   "outputs": [],
   "source": []
  },
  {
   "cell_type": "code",
   "execution_count": null,
   "metadata": {},
   "outputs": [],
   "source": [
    "helper.random_knn(summary_existence, labels = labels, num= 10, knn = 5, metric = \"cosine\")"
   ]
  },
  {
   "cell_type": "code",
   "execution_count": null,
   "metadata": {},
   "outputs": [],
   "source": [
    "helper.random_knn(summary_existence, labels = labels, num= 10, knn = 5, metric = \"hamming\")"
   ]
  },
  {
   "cell_type": "markdown",
   "metadata": {},
   "source": [
    "## Analysis of Data"
   ]
  },
  {
   "cell_type": "code",
   "execution_count": null,
   "metadata": {},
   "outputs": [],
   "source": [
    "summary_existence = np.array(summary_existence)\n",
    "centered_sum_ex = (summary_existence - summary_existence.mean())/summary_existence.std()"
   ]
  },
  {
   "cell_type": "markdown",
   "metadata": {},
   "source": [
    "# Experiments with existence of words in a summary"
   ]
  },
  {
   "cell_type": "code",
   "execution_count": null,
   "metadata": {},
   "outputs": [],
   "source": [
    "\n",
    "helper.plot_dendrogram(summary_existence,title = \"500 samples dendrogram using complete linkage existence of words in a summary\",titles_list = labels)"
   ]
  },
  {
   "cell_type": "code",
   "execution_count": null,
   "metadata": {},
   "outputs": [],
   "source": [
    "reduced_PCA_OG_matrix = helper.plot_pca(summary_existence,titles_list = labels, title = \"500 samples Summary Existence PCA\")"
   ]
  },
  {
   "cell_type": "code",
   "execution_count": null,
   "metadata": {},
   "outputs": [],
   "source": [
    "reduced_TSNE_COS_matrix = helper.plot_tsne(summary_existence,labels,title=\"500 samples Summary Existence Tsne perp60 cosine\",metric= \"cosine\")"
   ]
  },
  {
   "cell_type": "code",
   "execution_count": null,
   "metadata": {},
   "outputs": [],
   "source": [
    "reduced_TSNE_HAM_matrix = helper.plot_tsne(summary_existence,labels,title=\"500 samples Summary Existence Tsne perp60 Hamming\",metric= \"hamming\")"
   ]
  },
  {
   "cell_type": "code",
   "execution_count": null,
   "metadata": {},
   "outputs": [],
   "source": [
    "helper.plot_dendrogram(summary_existence,title = \"500 samples dendrogram using ward's algorithm on existence of words in a summary\",hierarchy_method=\"ward\", dist_metric=\"euclidean\",titles_list = labels)"
   ]
  },
  {
   "cell_type": "code",
   "execution_count": null,
   "metadata": {},
   "outputs": [],
   "source": [
    "helper.plot_dendrogram(summary_existence,title = \"500 samples dendrogram using complete linkage yule metric existence of words in a summary\",dist_metric= \"yule\",titles_list = labels)"
   ]
  },
  {
   "cell_type": "code",
   "execution_count": null,
   "metadata": {},
   "outputs": [],
   "source": [
    "helper.plot_dendrogram(summary_existence,title = \"500 samples dendrogram using complete linkage Hamming metric existence of words in a summary\",dist_metric= \"hamming\",titles_list = labels)"
   ]
  },
  {
   "cell_type": "code",
   "execution_count": null,
   "metadata": {},
   "outputs": [],
   "source": [
    "reduced_PCA_COS_matrix = helper.plot_kpca(summary_existence,labels, kernel=\"cosine\",title=\"500 samples cosine kernel PCA of existence of words in a summary\")"
   ]
  },
  {
   "cell_type": "code",
   "execution_count": null,
   "metadata": {},
   "outputs": [],
   "source": [
    "reduced_PCA_HAM_matrix = helper.plot_kpca(summary_existence,labels, kernel=\"hamming\",title=\"500 samples cosine kernel PCA of existence of words in a summary\")"
   ]
  },
  {
   "cell_type": "markdown",
   "metadata": {},
   "source": [
    "## Experiments with Summary counts"
   ]
  },
  {
   "cell_type": "code",
   "execution_count": null,
   "metadata": {},
   "outputs": [],
   "source": [
    "summary_count = np.array(summary_count)\n",
    "centered_sum_count = (summary_count - summary_count.mean())/summary_existence.std()\n",
    "helper.plot_dendrogram(centered_sum_ex,title = \"500 samples dendrogram using complete linkage cosine metric count of words in a summary\",titles_list = labels)"
   ]
  },
  {
   "cell_type": "code",
   "execution_count": null,
   "metadata": {},
   "outputs": [],
   "source": [
    "reduced_matrix = helper.plot_pca(summary_count,titles_list = labels, title = \"500 samples Summary count PCA\")"
   ]
  },
  {
   "cell_type": "code",
   "execution_count": null,
   "metadata": {},
   "outputs": [],
   "source": [
    "reduced_matrix = helper.plot_tsne(centered_sum_count,labels,title=\"500 samples Summary Count Tsne perp60 cosine\",metric= \"cosine\")"
   ]
  },
  {
   "cell_type": "code",
   "execution_count": null,
   "metadata": {},
   "outputs": [],
   "source": [
    "reduced_matrix = helper.plot_tsne(summary_count,labels,title=\"500 samples Summary Count Tsne perp60 Yule\",metric= \"yule\")"
   ]
  },
  {
   "cell_type": "code",
   "execution_count": null,
   "metadata": {},
   "outputs": [],
   "source": [
    "helper.plot_dendrogram(summary_count,title = \"500 samples dendrogram using ward's algorithm on count of words in a summary\",hierarchy_method=\"ward\", dist_metric=\"euclidean\",titles_list = labels)"
   ]
  },
  {
   "cell_type": "code",
   "execution_count": null,
   "metadata": {},
   "outputs": [],
   "source": [
    "helper.plot_dendrogram(summary_count,title = \"500 samples dendrogram using complete linkage yule metric count of words in a summary\",dist_metric= \"yule\",titles_list = labels)"
   ]
  }
 ],
 "metadata": {
  "interpreter": {
   "hash": "c30f2af5f468e7f5b45bcc30fca5f4886c90d54777aed916ed5f6294dfb24bf2"
  },
  "kernelspec": {
   "display_name": "CSE204",
   "language": "python",
   "name": "python3"
  },
  "language_info": {
   "codemirror_mode": {
    "name": "ipython",
    "version": 3
   },
   "file_extension": ".py",
   "mimetype": "text/x-python",
   "name": "python",
   "nbconvert_exporter": "python",
   "pygments_lexer": "ipython3",
   "version": "3.8.5"
  },
  "orig_nbformat": 4
 },
 "nbformat": 4,
 "nbformat_minor": 2
}
