{
 "cells": [
  {
   "cell_type": "markdown",
   "metadata": {},
   "source": [
    "# Import packages"
   ]
  },
  {
   "cell_type": "code",
   "execution_count": 2,
   "metadata": {},
   "outputs": [],
   "source": [
    "import wikipediaapi\n",
    "import random\n",
    "import spacy\n",
    "import re\n",
    "import numpy as np\n",
    "import matplotlib.pyplot as plt\n",
    "from sklearn.cluster import KMeans\n",
    "from sklearn.decomposition import PCA"
   ]
  },
  {
   "cell_type": "markdown",
   "metadata": {},
   "source": [
    "# Install dependencies"
   ]
  },
  {
   "cell_type": "code",
   "execution_count": 1,
   "metadata": {},
   "outputs": [
    {
     "name": "stdout",
     "output_type": "stream",
     "text": [
      "Collecting wikipedia-api\n",
      "  Using cached Wikipedia-API-0.5.4.tar.gz (18 kB)\n",
      "Requirement already satisfied: requests in /opt/anaconda3/lib/python3.8/site-packages (from wikipedia-api) (2.24.0)\n",
      "Requirement already satisfied: idna<3,>=2.5 in /opt/anaconda3/lib/python3.8/site-packages (from requests->wikipedia-api) (2.10)\n",
      "Requirement already satisfied: urllib3!=1.25.0,!=1.25.1,<1.26,>=1.21.1 in /opt/anaconda3/lib/python3.8/site-packages (from requests->wikipedia-api) (1.25.11)\n",
      "Requirement already satisfied: certifi>=2017.4.17 in /opt/anaconda3/lib/python3.8/site-packages (from requests->wikipedia-api) (2020.6.20)\n",
      "Requirement already satisfied: chardet<4,>=3.0.2 in /opt/anaconda3/lib/python3.8/site-packages (from requests->wikipedia-api) (3.0.4)\n",
      "Building wheels for collected packages: wikipedia-api\n",
      "  Building wheel for wikipedia-api (setup.py) ... \u001b[?25ldone\n",
      "\u001b[?25h  Created wheel for wikipedia-api: filename=Wikipedia_API-0.5.4-py3-none-any.whl size=13462 sha256=10925f06ccf045b255a1e03ac59c0c1eab1fa07ef42a74d1f9e64d76b5881be1\n",
      "  Stored in directory: /Users/liuyufei/Library/Caches/pip/wheels/ed/88/e3/da3d4d73cb91d659488cfa25913b84bbc26febec99d257bce9\n",
      "Successfully built wikipedia-api\n",
      "Installing collected packages: wikipedia-api\n",
      "Successfully installed wikipedia-api-0.5.4\n",
      "Note: you may need to restart the kernel to use updated packages.\n",
      "Collecting spacy\n",
      "  Downloading spacy-3.3.0-cp38-cp38-macosx_10_9_x86_64.whl (6.4 MB)\n",
      "\u001b[K     |████████████████████████████████| 6.4 MB 8.1 MB/s eta 0:00:01\n",
      "\u001b[?25hRequirement already satisfied: numpy>=1.15.0 in /opt/anaconda3/lib/python3.8/site-packages (from spacy) (1.19.2)\n",
      "Collecting wasabi<1.1.0,>=0.9.1\n",
      "  Downloading wasabi-0.9.1-py3-none-any.whl (26 kB)\n",
      "Requirement already satisfied: requests<3.0.0,>=2.13.0 in /opt/anaconda3/lib/python3.8/site-packages (from spacy) (2.24.0)\n",
      "Collecting spacy-legacy<3.1.0,>=3.0.9\n",
      "  Downloading spacy_legacy-3.0.9-py2.py3-none-any.whl (20 kB)\n",
      "Collecting catalogue<2.1.0,>=2.0.6\n",
      "  Downloading catalogue-2.0.7-py3-none-any.whl (17 kB)\n",
      "Collecting pydantic!=1.8,!=1.8.1,<1.9.0,>=1.7.4\n",
      "  Downloading pydantic-1.8.2-cp38-cp38-macosx_10_9_x86_64.whl (2.6 MB)\n",
      "\u001b[K     |████████████████████████████████| 2.6 MB 17.4 MB/s eta 0:00:01\n",
      "\u001b[?25hCollecting srsly<3.0.0,>=2.4.3\n",
      "  Downloading srsly-2.4.3-cp38-cp38-macosx_10_9_x86_64.whl (455 kB)\n",
      "\u001b[K     |████████████████████████████████| 455 kB 16.0 MB/s eta 0:00:01\n",
      "\u001b[?25hCollecting langcodes<4.0.0,>=3.2.0\n",
      "  Downloading langcodes-3.3.0-py3-none-any.whl (181 kB)\n",
      "\u001b[K     |████████████████████████████████| 181 kB 16.1 MB/s eta 0:00:01\n",
      "\u001b[?25hCollecting murmurhash<1.1.0,>=0.28.0\n",
      "  Downloading murmurhash-1.0.7-cp38-cp38-macosx_10_9_x86_64.whl (18 kB)\n",
      "Requirement already satisfied: jinja2 in /opt/anaconda3/lib/python3.8/site-packages (from spacy) (2.11.2)\n",
      "Collecting pathy>=0.3.5\n",
      "  Downloading pathy-0.6.1-py3-none-any.whl (42 kB)\n",
      "\u001b[K     |████████████████████████████████| 42 kB 7.3 MB/s  eta 0:00:01\n",
      "\u001b[?25hRequirement already satisfied: tqdm<5.0.0,>=4.38.0 in /opt/anaconda3/lib/python3.8/site-packages (from spacy) (4.50.2)\n",
      "Collecting blis<0.8.0,>=0.4.0\n",
      "  Downloading blis-0.7.7-cp38-cp38-macosx_10_9_x86_64.whl (5.8 MB)\n",
      "\u001b[K     |████████████████████████████████| 5.8 MB 5.1 MB/s eta 0:00:01\n",
      "\u001b[?25hCollecting spacy-loggers<2.0.0,>=1.0.0\n",
      "  Downloading spacy_loggers-1.0.2-py3-none-any.whl (7.2 kB)\n",
      "Collecting thinc<8.1.0,>=8.0.14\n",
      "  Downloading thinc-8.0.15-cp38-cp38-macosx_10_9_x86_64.whl (633 kB)\n",
      "\u001b[K     |████████████████████████████████| 633 kB 14.5 MB/s eta 0:00:01\n",
      "\u001b[?25hCollecting cymem<2.1.0,>=2.0.2\n",
      "  Downloading cymem-2.0.6-cp38-cp38-macosx_10_9_x86_64.whl (31 kB)\n",
      "Collecting preshed<3.1.0,>=3.0.2\n",
      "  Downloading preshed-3.0.6-cp38-cp38-macosx_10_9_x86_64.whl (106 kB)\n",
      "\u001b[K     |████████████████████████████████| 106 kB 14.7 MB/s eta 0:00:01\n",
      "\u001b[?25hCollecting typer<0.5.0,>=0.3.0\n",
      "  Downloading typer-0.4.1-py3-none-any.whl (27 kB)\n",
      "Requirement already satisfied: packaging>=20.0 in /opt/anaconda3/lib/python3.8/site-packages (from spacy) (20.4)\n",
      "Requirement already satisfied: setuptools in /opt/anaconda3/lib/python3.8/site-packages (from spacy) (50.3.1.post20201107)\n",
      "Requirement already satisfied: idna<3,>=2.5 in /opt/anaconda3/lib/python3.8/site-packages (from requests<3.0.0,>=2.13.0->spacy) (2.10)\n",
      "Requirement already satisfied: certifi>=2017.4.17 in /opt/anaconda3/lib/python3.8/site-packages (from requests<3.0.0,>=2.13.0->spacy) (2020.6.20)\n",
      "Requirement already satisfied: chardet<4,>=3.0.2 in /opt/anaconda3/lib/python3.8/site-packages (from requests<3.0.0,>=2.13.0->spacy) (3.0.4)\n",
      "Requirement already satisfied: urllib3!=1.25.0,!=1.25.1,<1.26,>=1.21.1 in /opt/anaconda3/lib/python3.8/site-packages (from requests<3.0.0,>=2.13.0->spacy) (1.25.11)\n",
      "Requirement already satisfied: typing-extensions>=3.7.4.3 in /opt/anaconda3/lib/python3.8/site-packages (from pydantic!=1.8,!=1.8.1,<1.9.0,>=1.7.4->spacy) (3.7.4.3)\n",
      "Requirement already satisfied: MarkupSafe>=0.23 in /opt/anaconda3/lib/python3.8/site-packages (from jinja2->spacy) (1.1.1)\n",
      "Collecting smart-open<6.0.0,>=5.0.0\n",
      "  Downloading smart_open-5.2.1-py3-none-any.whl (58 kB)\n",
      "\u001b[K     |████████████████████████████████| 58 kB 16.8 MB/s eta 0:00:01\n",
      "\u001b[?25hRequirement already satisfied: click<9.0.0,>=7.1.1 in /opt/anaconda3/lib/python3.8/site-packages (from typer<0.5.0,>=0.3.0->spacy) (7.1.2)\n",
      "Requirement already satisfied: pyparsing>=2.0.2 in /opt/anaconda3/lib/python3.8/site-packages (from packaging>=20.0->spacy) (2.4.7)\n",
      "Requirement already satisfied: six in /opt/anaconda3/lib/python3.8/site-packages (from packaging>=20.0->spacy) (1.15.0)\n",
      "Installing collected packages: wasabi, spacy-legacy, catalogue, pydantic, srsly, langcodes, murmurhash, typer, smart-open, pathy, blis, spacy-loggers, cymem, preshed, thinc, spacy\n",
      "Successfully installed blis-0.7.7 catalogue-2.0.7 cymem-2.0.6 langcodes-3.3.0 murmurhash-1.0.7 pathy-0.6.1 preshed-3.0.6 pydantic-1.8.2 smart-open-5.2.1 spacy-3.3.0 spacy-legacy-3.0.9 spacy-loggers-1.0.2 srsly-2.4.3 thinc-8.0.15 typer-0.4.1 wasabi-0.9.1\n",
      "Note: you may need to restart the kernel to use updated packages.\n"
     ]
    },
    {
     "name": "stderr",
     "output_type": "stream",
     "text": [
      "UsageError: Line magic function `%python` not found (But cell magic `%%python` exists, did you mean that instead?).\n"
     ]
    }
   ],
   "source": [
    "%pip install wikipedia-api\n",
    "%pip install spacy\n",
    "%python -mspacy download en_core_web_sm"
   ]
  },
  {
   "cell_type": "markdown",
   "metadata": {},
   "source": [
    "# Load dataset"
   ]
  },
  {
   "cell_type": "code",
   "execution_count": 3,
   "metadata": {},
   "outputs": [],
   "source": [
    "# list of keywords per topic\n",
    "history_keywords = ['Allied Powers', 'Axis Powers', 'Appeasement', 'Central Powers', 'Duma', 'Fascism', 'Great Depression', 'Holocaust', 'League of Nations', 'Mandate', 'Mexican Revolution', 'Pan-Slavic movement', 'Reparations', 'Revolution of  (Russia)', 'Russo-Japanese War', 'Spanish Civil War', 'Tahran Conference', 'Treaty of Versailles', 'United Nations', 'Yalta Conference ', 'Afrikaners', 'Apartheid', 'AyatollahKhomeini', 'Berlin Wall', 'Brinkmanship', 'Coalition', 'Cold War', 'Collectivization', 'Containment', 'Cuban Missile Crisis', 'CulturalRevolution', 'Five Year Plans', 'Geneva Conference', 'Genocide', 'Glasnost', 'Great Leap Forward', 'Guomindang', 'Iron Curtain', 'Marshall Plan ', 'May Fourth Movement', 'New Economic Policy (NEP)', 'Nonalignment', 'North Atlantic treaty Organization (NATO)', 'Prague Spring', 'Great Purges', 'Red Guard', 'Tiananmen Square', 'Truman Doctrine', 'Warsaw Pact ', 'Al-Qaeda', 'Cartels', 'InternationalMonetary Fund (IMF)', 'Persian Gulf War ', 'World Bank ', 'European Economic Community (EEC)', 'European Union/Euro', 'North American Free Trade Agreement (NAFTA)', 'Organization of Petroleum Exporting Countries (OPEC)', 'World Trade Organization (WTO)', 'Helsinki Accords', 'Evangelical ', 'Fundamentalism', 'Mass consumerism', 'New Deal', 'Welfare state', 'Green Revolution', 'Guest workers', 'Ozone depletion', 'Totalitarian', 'Tariff', 'Woodrow Wilson', 'Fourteen Points', 'Bolsheviks', 'Fascism', 'Adolf Hitler', 'Winston Churchill', 'Total War', 'Joseph Stalin', 'Lenin', 'Mao Zedong', 'Nikita Khrushchev', 'Mikhail Gorbachev', 'Deng Xiaoping', 'Mahatma Gandhi', 'Muslim League', 'Muhammad Ali Jinnah', 'African national Congress', 'Nelson Mandela ', 'Black Shirts', 'Berlin Wall']\n",
    "math_keywords = ['Absolute differential calculus', 'Absolute geometry', 'Abstract algebra', 'Abstract analytic number theory', 'Abstract differential geometry', 'Abstract harmonic analysis', 'Abstract homotopy theory', 'Actuarial science', 'Additive combinatorics', 'Additive number theory', 'Affine geometry', 'Affine geometry of curves', 'Affine differential geometry', 'Ahlfors theory', 'Algebra', 'Algebraic analysis', 'Algebraic combinatorics', 'Algebraic computation', 'Algebraic geometry', 'Algebraic graph theory', 'Algebraic K-theory', 'Algebraic number theory', 'Algebraic statistics', 'Algebraic topology', 'Algorithmic number theory', 'Anabelian geometry', 'Analysis', 'Analytic combinatorics', 'Analytic geometry', 'Analytic number theory', 'Applied mathematics', 'Approximation theory', 'Arakelov geometry', 'Arakelov theory', 'Arithmetic', 'Arithmetic algebraic geometry', 'Arithmetic combinatorics', 'Arithmetic dynamics', 'Arithmetic geometry', 'Arithmetic topology', 'Arithmetical algebraic geometry', 'Asymptotic combinatorics', 'Asymptotic theory', 'Auslander–Reiten theory', 'Axiomatic geometry', 'Axiomatic set theory', 'Bifurcation theory', 'Biostatistics', 'Birational geometry', 'Bolyai–Lobachevskian geometry', 'C*-algebra theory', 'Cartesian geometry', 'Calculus', 'Calculus of infinitesimals', 'Calculus of moving surfaces', 'Calculus of variations', 'Catastrophe theory', 'Categorical logic', 'Category theory', 'Chaos theory', 'Character theory', 'Class field theory', 'Classical differential geometry', 'Classical analysis', 'Classical Euclidean geometry', 'Classical geometry', 'Classical invariant theory', 'Classical mathematics', 'Clifford analysis', 'Coding theory', 'Combinatorial commutative algebra', 'Combinatorial design theory', 'Combinatorial geometry', 'Combinatorial group theory', 'Combinatorial mathematics', 'Combinatorial set theory', 'Combinatorial topology', 'Combinatorics', 'Commutative algebra', 'Complex algebraic geometry', 'Complex analysis', 'Complex analytic dynamics', 'Complex analytic geometry', 'Complex differential geometry', 'Complex dynamics', 'Complex geometry', 'Complexity theory', 'Computable analysis', 'Computable model theory', 'Computability theory', 'Computational complexity theory', 'Computational geometry', 'Computational group theory', 'Computational mathematics', 'Computational number theory', 'Computer algebra', 'Conformal geometry', 'Constructive analysis', 'Constructive function theory', 'Constructive mathematics', 'Constructive quantum field theory', 'Constructive set theory', 'Contact geometry', 'Convex analysis', 'Convex geometry', 'Coordinate geometry', 'CR geometry', 'Descriptive set theory', 'Differential algebraic geometry', 'Differential calculus', 'Differential Galois theory', 'Differential geometry', 'Differential geometry of curves', 'Differential geometry of surfaces', 'Differential topology', 'Diophantine geometry', 'Discrete geometry', 'Discrete mathematics', 'Discrete Morse theory', 'Donaldson theory', 'Dynamical systems theory', 'Econometrics', 'Effective descriptive set theory', 'Elementary algebra', 'Elementary arithmetic', 'Elementary mathematics', 'Elementary group theory', 'Elimination theory', 'Elliptic geometry', 'Enumerative combinatorics', 'Enumerative geometry', 'Ergodic Ramsey theory', 'Ergodic theory', 'Euclidean differential geometry', 'Euler calculus', 'Experimental mathematics', 'Extremal combinatorics', 'Extremal graph theory', 'Field theory', 'Finite model theory', 'Finsler geometry', 'Fourier analysis', 'Fractal geometry', 'Fractional calculus', 'Fractional dynamics', 'Fredholm theory', 'Function theory', 'Functional analysis', 'Functional calculus', 'Fuzzy mathematics', 'Fuzzy set theory', 'Galois cohomology', 'Galois theory', 'Galois geometry', 'Game theory', 'General topology', 'Generalized trigonometry', 'Geometric algebra', 'Geometric analysis', 'Geometric calculus', 'Geometric combinatorics', 'Geometric function theory', 'Geometric invariant theory', 'Geometric graph theory', 'Geometric group theory', 'Geometric measure theory', 'Geometric topology', 'Geometry', 'Geometry of numbers', 'Global analysis', 'Graph theory', 'Group-character theory', 'Group theory', 'Gyrotrigonometry', 'Hard analysis', 'Harmonic analysis', 'Higher category theory', 'Higher-dimensional algebra', 'Hodge theory', 'Holomorphic functional calculus', 'Homological algebra', 'Hyperbolic geometry', 'hyperbolic trigonometry', 'Hypercomplex analysis', 'Ideal theory', 'Idempotent analysis', 'Incidence geometry', 'Inconsistent mathematics', 'Infinitary combinatorics', 'Infinitesimal analysis', 'Infinitesimal calculus', 'Information geometry', 'Integral geometry', 'Intersection theory', 'Intuitionistic type theory', 'Invariant theory', 'Inventory theory', 'Inversive geometry', 'Inversive plane geometry', 'Itô calculus', 'Iwasawa theory', 'K-theory', 'K-homology', 'Kähler geometry', 'KK-theory', 'Klein geometry', 'Knot theory', 'Kummer theory', 'L-theory', 'Large deviations theory', 'Large sample theory', 'Lattice theory', 'Lie sphere geometry', 'Linear programming', 'Local algebra', 'Local class field theory', 'Low-dimensional topology', 'Malliavin calculus', 'Mathematical biology', 'Mathematical chemistry', 'Mathematical economics', 'Mathematical finance', 'Mathematical logic', 'Mathematical physics', 'Mathematical psychology', 'Mathematical sciences', 'Mathematical sociology', 'Mathematical statistics', 'Model theory', 'Modern algebra', 'Modern algebraic geometry', 'Modern invariant theory', 'Modular representation theory', 'Morse theory', 'Multilinear algebra', 'Multiplicative number theory', 'Multivariable calculus', 'Neutral geometry', 'Nevanlinna theory', 'Nielsen theory', 'Nonarchimedean dynamics', 'Noncommutative algebraic geometry', 'Noncommutative harmonic analysis', 'Number theory', 'Operad theory', 'Operator theory', 'Optimal control theory', 'Order theory', 'Ordered geometry', 'p-adic analysis', 'p-adic dynamics', 'Paraconsistent mathematics', 'Point-set topology', 'Polyhedral combinatorics', 'Projective geometry', 'Pseudo-Riemannian geometry', 'Pure mathematics', 'Quantum calculus', 'Quantum geometry', 'Ramsey theory', 'Real algebra', 'Real algebraic geometry', 'Real analysis', 'Recreational mathematics', 'Recursion theory', 'Representation theory', 'Ribbon theory', 'Riemannian geometry', 'Rough set theory', 'Scheme theory', 'Semialgebraic geometry', 'Single operator theory', 'Singularity theory', 'Smooth infinitesimal analysis', 'Spectral geometry', 'Spectral graph theory', 'Spectral theory', 'Spectral theory of ordinary differential equations', 'Spectrum continuation analysis', 'Spherical geometry', 'Spherical trigonometry', 'Statistics', 'Stochastic geometry', 'Surgery theory', 'Symbolic computation', 'Symplectic geometry', 'Synthetic differential geometry', 'Synthetic geometry', 'Systolic geometry', 'Systolic hyperbolic geometry', 'Tensor analysis', 'Tensor calculus', 'Tensor theory', 'Tessellation', 'Theoretical physics', 'Topological combinatorics', 'Transcendental number theory', 'Trigonometry', 'Tropical analysis', 'Twisted K-theory', 'Umbral calculus', 'Uncertainty theory', 'Universal algebra', 'Universal hyperbolic trigonometry', 'Vector algebra', 'Vector analysis', 'Vector calculus']\n",
    "philosophy_keywords = ['Absurdism', 'Actual idealism', 'Actualism', 'Advaita Vedanta', 'Aesthetic Realism', 'Aesthetics', 'African philosophy', 'Afrocentrism', 'Agential realism', 'Agnosticism', 'Agnostic theism', 'American philosophy', 'Anarchy', 'Animism', 'Antinatalism', 'Antinomianism — Anti-realism', 'Antireductionism', 'Analytic philosophy', 'Anarchism', 'Ancient philosophy', 'Anthropocentrism', 'Anomalous monism', 'Applied ethics', 'Aristotelianism', 'Asceticism', 'Atheism', 'Authoritarianism', 'Averroism', 'Avicennism', 'Axiology   Baptism', 'Bayesianism', 'Bioconservatism', 'Biosophy', 'Buddhist philosophy   Cartesianism', 'Categorical imperative', 'Charvaka', 'Chinese naturalism', 'Capitalism', 'Chinese philosophy', 'Christian existentialism', 'Christian humanism', 'Christian philosophy', 'Cognitivism', 'Communitarianism', 'Communism', 'Compatibilism and incompatibilism', 'Confirmation holism', 'Confucianism', 'Consequentialism', 'Conceptualism', 'Conservatism', 'Constructivist epistemology', 'Continental philosophy', 'Cosmopolitanism', 'Critical rationalism', 'Critical realism', 'Cynicism', 'Czech philosophy   Danish philosophy', 'Daoism', 'Deconstruction', 'Deism', 'Denialism', 'Deontology', 'Depressionism', 'Determinism', 'Dialectic', 'Dialectical materialism', 'Didacticism', 'Digital physics', 'Discordianism', 'Dualistic cosmology', 'Dvaita   Ecocentrism', 'Ecumenism', 'Egalitarianism', 'Egocentrism', 'Egoism', 'Eliminative materialism', 'Emotivism', 'Empiricism', 'Ephesian school', 'Epiphenomenalism', 'Epicureanism', 'Epistemological nihilism', 'Epistemology', 'Esotericism', 'Essentialism', 'Ethics', 'Eternalism', 'Eudaimonism', 'Existentialism', 'Externalism   Fallibilism', 'Fascism', 'Fatalism', 'Feminist philosophy', 'Filial piety', 'Foundationalism', 'Free will', 'Fundamentalism', '  German idealism', 'German philosophy', 'Gnosticism', 'Greek philosophy', '  Hedonism', 'Hegelianism', 'Hermeticism', 'Henotheism', 'Heterophenomenology', 'Hindu philosophy', 'Historical materialism', 'Historicism', 'Holism', 'Hongaku', 'Humanism', 'Humanistic naturalism', 'Hylozoism', '  Idealism', 'Identityism', 'Ideological criticism', 'Ignosticism', 'Illegalism', 'Illuminationism', 'Individualism', 'Indian logic', 'Indian philosophy', 'Indonesian philosophy', 'Induction', 'Informal logic', 'Innatism', 'Instrumental rationality', 'Instrumentalism', 'Interactionism (philosophy of mind)', 'Internalism and externalism', 'Intuitionism', 'Iranian philosophy', 'Irrealism', 'Islamic ethics', 'Islamic philosophy   Japanese philosophy', 'Jainism', 'Jewish philosophy', 'Jingoism', 'Juche', 'Judeo-Islamic philosophies', 'Just war theory', 'Kantianism', 'Korean philosophy', 'Legalism', 'Leninism', 'Liberalism', 'Libertarianism', 'Libertarianism', 'Logic', 'Logical atomism', 'Logical positivism', 'Logicians', 'Logicism', 'Logic in China', 'Logic in Islamic philosophy', 'Manichaeism', 'Maoism', 'Marxism', 'Marxist philosophy of nature', 'Materialism', 'Mathematicism', 'Maxim (philosophy)', 'Medical ethics', 'Medieval philosophy', 'Medievalism', 'Mentalism', 'Mereological nihilism', 'Merism', 'Meta-philosophy', 'Metaphysics', 'Meta-ethics', 'Milesian school', 'Mimamsa', 'Mind-body dualism', 'Misology', 'Modernism', 'Modern Islamic philosophy', 'Mohism', 'Monism', 'Moral absolutism', 'Moral realism', 'Moral relativism', 'Moral skepticism', 'Mysticism', '  Naïve realism', 'Naturalism', 'Negative utilitarianism', 'Neo-Confucianism', 'Neo-Hegelianism', 'Neo-Kantianism', 'Neoplatonism', 'Neopythagoreanism', 'Neo-Scholasticism', 'Neotaoism', 'Neuroethics', 'Neurophilosophy', 'Neurotheology', 'Neutral monism', 'New realism', 'New Thought', 'Nihilism', 'Nominalism', 'Nondualism', 'Non-philosophy', 'Non-theism', 'Nyaya', '  Objective idealism', 'Objectivism', 'Occasionalism', 'Ontology', 'Ontotheology', 'Open individualism', 'Organicism   Paganism', 'Pakistani philosophy', 'Pancritical rationalism', 'Pandeism', 'Panpsychism', 'Pantheism', 'Pataphysics', 'Perennial philosophy', 'Perfectionism', 'Peripatetic school', 'Personalism', 'Perspectivism', 'Pessimism', 'Phenomenalism', 'Phenomenology', 'Philosophical anthropology', 'Philosophical Satanism', 'Philosophy of archaeology', 'Philosophy of art', 'Philosophy of Arithmetic', 'Philosophy of artificial intelligence', 'Philosophy of action', 'Philosophy of biology', 'Philosophy of business', 'Philosophy of Common Sense', 'Philosophy of culture', 'Philosophy of color', 'The Philosophy of Chance', 'Philosophy of design', 'Philosophy of dialogue', 'Philosophy of eating', 'Philosophy of economics', 'Philosophy of education', 'Philosophy of engineering', 'Philosophy of film', 'Philosophy of futility', 'Philosophy of geography', 'Philosophy of healthcare', 'Philosophy of history', 'Philosophy of information', 'Philosophy of language', 'Philosophy of Law', 'Philosophy of logic', 'Philosophy of love', 'Philosophy of mathematics', 'Philosophy of mathematics education', 'Philosophy of mind', 'Philosophy of motion', 'Philosophy of music', 'Philosophy of nature', 'Philosophy of Natural Science', 'Philosophy of neuroscience', 'Philosophy of perception', 'Philosophy of philosophy', 'Philosophy of physics', 'Philosophy of psychology', 'Philosophy of psychiatry', 'Philosophy of religion', 'Philosophy of religious language', 'Philosophy of science', 'Philosophy of sex', 'Philosophy of self', 'Philosophy of social science', 'Philosophy of space and time', 'Philosophy of sport', 'Philosophy of statistics', 'Philosophy of thermal and statistical physics', 'Philosophy of war', 'Physicalism', 'Physical ontology', 'Platonic realism', 'Platonism', 'Pluralism', 'Political philosophy', 'Populism', 'Positivism', 'Postanalytic philosophy', 'Post-structuralism', 'Posthumanism', 'Post-materialism', 'Post-modernism', 'Postpositivism- Practical reason', 'Pragmatism', 'Praxis School', 'Probabilism', 'Presentism', 'Process philosophy', 'Progressivism', 'Property dualism', 'Pseudophilosophy', 'Psychological egoism', 'Pure practical reason', 'Pure reason', 'Pyrrhonian skepticism', 'Pyrrhonism', 'Pythagoreanism', '  Quantum mysticism', 'Quietism   Raëlism', 'Rastafari', 'Rationalism', 'Realism', 'Reconstructivism', 'Reductionism', 'Reductive materialism', 'Reformational philosophy', 'Relationalism', 'Relativism', 'Relevance logic', 'Religious humanism', 'Religious philosophy', 'Reliabilism', 'Renaissance humanism', 'Romanian philosophy', 'Romanticism', 'Russian cosmism', 'Russian philosophy   Sabellianism', 'Sankhya', 'Scotism', 'Scholasticism', 'Scientism', 'Secularism', 'Secular humanism', 'Semantic holism', 'Sensualism', 'Sexualism', 'Sexism', 'Shamanism', 'Sikhism', 'Singularitarianism', 'Skepticism', 'Skeptical theism', 'Socialism', 'Social philosophy', 'Solipsism', 'Sophism', 'Spiritualism', 'Stoicism', 'Structuralism', 'Subjective idealism', 'Subjectivism', 'Sufi metaphysics', 'Śūnyatā', 'Supersessionism', 'Synoptic philosophy', 'Systems philosophy', '  Taoism', 'Teleology', 'Tetralemma', 'Theistic finitism', 'Theism', 'Thelema', 'Theology', 'Theosophy', 'Thomism', 'Traditionalist School', 'Transcendent theosophy (al-Hikmat al-Muta’liyah)', 'Transcendental idealism', 'Transcendentalism', 'Transcendental perspectivism', 'Transhumanism', 'Transmodernism', 'Type physicalism  Ubuntu', 'Universalism', 'Utilitarian bioethics', 'Utilitarianism', 'Value pluralism', 'Value theory', 'Vedanta', 'Verificationism', 'Verism', 'Vienna Circle', 'Virtue ethics', 'Vitalism', 'Voluntaryism- Western philosophy', 'Wu wei', 'Zen', 'Zoroastrianism', 'Zurvanism']"
   ]
  },
  {
   "cell_type": "code",
   "execution_count": 4,
   "metadata": {},
   "outputs": [],
   "source": [
    "def get_docs(keyword_list):\n",
    "    \"\"\"\n",
    "    Takes a list of keywords and returns a list of articles from wikipedia\n",
    "    that match the keywords.\n",
    "    \"\"\"\n",
    "    wiki = wikipediaapi.Wikipedia('en')\n",
    "    num_found = 0\n",
    "    doc_list = list()\n",
    "    for keyword in keyword_list:\n",
    "        page_py = wiki.page(keyword)\n",
    "        if page_py.exists():\n",
    "            doc_list.append(page_py.summary)\n",
    "            num_found+=1\n",
    "    print(\"Found \"+str(num_found)+\" articles out of \"+str(len(keyword_list)))\n",
    "    return doc_list"
   ]
  },
  {
   "cell_type": "code",
   "execution_count": 5,
   "metadata": {},
   "outputs": [
    {
     "name": "stdout",
     "output_type": "stream",
     "text": [
      "History articles: \n",
      "\n",
      "Found 77 articles out of 90\n",
      "Math articles: \n",
      "\n",
      "Found 287 articles out of 307\n",
      "Philosophy articles: \n",
      "\n",
      "Found 376 articles out of 392\n"
     ]
    }
   ],
   "source": [
    "print(\"History articles: \\n\")\n",
    "history_docs = get_docs(history_keywords)\n",
    "print(\"Math articles: \\n\")\n",
    "math_docs = get_docs(math_keywords)\n",
    "print(\"Philosophy articles: \\n\")\n",
    "philosophy_docs = get_docs(philosophy_keywords)"
   ]
  },
  {
   "cell_type": "code",
   "execution_count": 6,
   "metadata": {},
   "outputs": [],
   "source": [
    "# merge into one dataset doc_list\n",
    "doc_list = history_docs+math_docs+philosophy_docs\n",
    "random.shuffle(doc_list)"
   ]
  },
  {
   "cell_type": "code",
   "execution_count": 7,
   "metadata": {},
   "outputs": [
    {
     "name": "stdout",
     "output_type": "stream",
     "text": [
      "Gnosticism (from Ancient Greek: γνωστικός, romanized: gnōstikós, Koine Greek: [ɣnostiˈkos], 'having knowledge') is a collection of religious ideas and systems which coalesced in the late 1st century AD among Jewish and early Christian sects. These various groups emphasised personal spiritual knowledge (gnosis) above the orthodox teachings, traditions, and authority of religious institutions. Viewing material existence as flawed or evil, Gnostic cosmogony generally presents a distinction between a supreme, hidden God and a malevolent lesser divinity (sometimes associated with the Yahweh of the Old Testament) who is responsible for creating the material universe. Gnostics considered the principal element of salvation to be direct knowledge of the supreme divinity in the form of mystical or esoteric insight. Many Gnostic texts deal not in concepts of sin and repentance, but with illusion and enlightenment.Gnostic writings flourished among certain Christian groups in the Mediterranean world around the second century, when the Fathers of the early Church denounced them as heresy. Efforts to destroy these texts proved largely successful, resulting in the survival of very little writing by Gnostic theologians. Nonetheless, early Gnostic teachers such as Valentinus saw their beliefs as aligned with Christianity. In the Gnostic Christian tradition, Christ is seen as a divine being which has taken human form in order to lead humanity back to the Light. However, Gnosticism is not a single standardized system, and the emphasis on direct experience allows for a wide variety of teachings, including distinct currents such as Valentinianism and Sethianism. In the Persian Empire, Gnostic ideas spread as far as China via the related movement Manichaeism, while Mandaeism, which is the only surviving Gnostic religion from antiquity, is found in Iraq, Iran and diaspora communities. The Mandaeans may have been the inventors of Gnosticism, or at the very least, contributed to its development.: 109 For centuries, most scholarly knowledge of Gnosticism was limited to the anti-heretical writings of orthodox Christian figures such as Irenaeus of Lyons and Hippolytus of Rome. There was a renewed interest in Gnosticism after the 1945 discovery of Egypt's Nag Hammadi library, a collection of rare early Christian and Gnostic texts, including the Gospel of Thomas and the Apocryphon of John. A major question in scholarly research is the qualification of Gnosticism as either an interreligious phenomenon or as an independent religion, with some contemporary scholars such as Michael Allen Williams and David G. Robertson contesting whether \"Gnosticism\" is still a valid or useful historical category at all. Scholars have acknowledged the influence of sources such as Hellenistic Judaism, Zoroastrianism, and Platonism, and some have noted possible links to Buddhism and Hinduism, though the evidence of direct influence from the latter sources is inconclusive.\n"
     ]
    }
   ],
   "source": [
    "print(doc_list[0])"
   ]
  },
  {
   "cell_type": "code",
   "execution_count": 8,
   "metadata": {},
   "outputs": [
    {
     "ename": "ModuleNotFoundError",
     "evalue": "No module named 'keras'",
     "output_type": "error",
     "traceback": [
      "\u001b[0;31m---------------------------------------------------------------------------\u001b[0m",
      "\u001b[0;31mModuleNotFoundError\u001b[0m                       Traceback (most recent call last)",
      "\u001b[0;32m<ipython-input-8-de8c3a0e7d95>\u001b[0m in \u001b[0;36m<module>\u001b[0;34m\u001b[0m\n\u001b[1;32m      3\u001b[0m \u001b[0;32mfrom\u001b[0m \u001b[0mnltk\u001b[0m\u001b[0;34m.\u001b[0m\u001b[0mcorpus\u001b[0m \u001b[0;32mimport\u001b[0m \u001b[0mstopwords\u001b[0m\u001b[0;34m\u001b[0m\u001b[0;34m\u001b[0m\u001b[0m\n\u001b[1;32m      4\u001b[0m \u001b[0;32mfrom\u001b[0m \u001b[0mnltk\u001b[0m\u001b[0;34m.\u001b[0m\u001b[0mtokenize\u001b[0m \u001b[0;32mimport\u001b[0m \u001b[0msent_tokenize\u001b[0m\u001b[0;34m,\u001b[0m \u001b[0mword_tokenize\u001b[0m\u001b[0;34m\u001b[0m\u001b[0;34m\u001b[0m\u001b[0m\n\u001b[0;32m----> 5\u001b[0;31m \u001b[0;32mfrom\u001b[0m \u001b[0mkeras\u001b[0m\u001b[0;34m.\u001b[0m\u001b[0mpreprocessing\u001b[0m\u001b[0;34m.\u001b[0m\u001b[0mtext\u001b[0m \u001b[0;32mimport\u001b[0m \u001b[0mTokenizer\u001b[0m\u001b[0;34m\u001b[0m\u001b[0;34m\u001b[0m\u001b[0m\n\u001b[0m\u001b[1;32m      6\u001b[0m \u001b[0;32mfrom\u001b[0m \u001b[0mkeras\u001b[0m\u001b[0;34m.\u001b[0m\u001b[0mpreprocessing\u001b[0m\u001b[0;34m.\u001b[0m\u001b[0msequence\u001b[0m \u001b[0;32mimport\u001b[0m \u001b[0mpad_sequences\u001b[0m\u001b[0;34m\u001b[0m\u001b[0;34m\u001b[0m\u001b[0m\n\u001b[1;32m      7\u001b[0m \u001b[0;34m\u001b[0m\u001b[0m\n",
      "\u001b[0;31mModuleNotFoundError\u001b[0m: No module named 'keras'"
     ]
    }
   ],
   "source": [
    "import numpy as np\n",
    "import os\n",
    "from nltk.corpus import stopwords\n",
    "from nltk.tokenize import sent_tokenize, word_tokenize\n",
    "from keras.preprocessing.text import Tokenizer\n",
    "from keras.preprocessing.sequence import pad_sequences\n",
    "\n",
    "import re\n",
    "import pandas as pd\n",
    "import matplotlib.pyplot as plt\n",
    "import tensorflow as tf\n",
    "\n",
    "from nltk.stem import PorterStemmer\n",
    "from multiprocessing import Pool\n",
    "\n",
    "# Tokenization and Cleaning\n",
    "        \n",
    "\n",
    "def split_string(lines):\n",
    "    sent_tokens = []\n",
    "    for line in lines:\n",
    "        line = re.sub(\"\\n\", \"\", line)\n",
    "        line = re.sub(\"\\\\\\\\.\", \"\", line)\n",
    "        line = re.sub(\"===\", \"\", line)\n",
    "        for sent in sent_tokenize(line):\n",
    "            sent_tokens.append(sent)\n",
    "    return sent_tokens\n",
    "\n",
    "def one_hot_enc(tup):\n",
    "    ar, dic_size = tup\n",
    "    #print(ar)\n",
    "    n = np.max(ar) +1\n",
    "    #count = np.sum(np.eye(dic_size)[ar], axis= 0)\n",
    "    count = np.sum(tf.one_hot(ar, n), axis= 0)/len(ar)\n",
    "    bl = np.array(count, dtype=bool)\n",
    "    ex = bl.astype(int)\n",
    "    \n",
    "    #padded = pad_sequences(oh, maxlen=x_voc_size, padding='post', truncating='post')\n",
    "    return count, ex\n",
    "\n",
    "def one_hot_all(input, dic_size):\n",
    "    #print(len(x_train))\n",
    "    #print(len(x_train[0]))\n",
    "    #print(x_train[0])\n",
    "    print(\"one hot all\")\n",
    "    existence = []\n",
    "    occurrence = []\n",
    "    p = Pool()\n",
    "    vector_input = [(each, dic_size) for each in input]\n",
    "    result = p.map(one_hot_enc,vector_input)\n",
    "    for each in result:\n",
    "        count, ex = each\n",
    "        existence.append(ex)\n",
    "        occurrence.append(count)\n",
    "\n",
    "    ex = pad_sequences(existence, maxlen=dic_size, padding='post', truncating='post', dtype=float)\n",
    "    count = pad_sequences(occurrence, maxlen=dic_size, padding='post', truncating='post', dtype=float)\n",
    "    return ex, count\n"
   ]
  },
  {
   "cell_type": "code",
   "execution_count": null,
   "metadata": {},
   "outputs": [],
   "source": [
    "text_overall, summary_overall, title_overall = [], [], [] \n",
    "    text_count, summary_count = [], []\n",
    "    stop_words = set(stopwords.words('english'))\n",
    "    ps = PorterStemmer()\n",
    "    #word tokenization + eliminating stopwords + words stemming + eliminating short words\n",
    "    def clean(string):\n",
    "        word_tokens = word_tokenize(string)\n",
    "        filtered_sentence = [ps.stem(w) for w in word_tokens if (not w in stop_words) and (len(w)>3)]\n",
    "        return filtered_sentence \n",
    "\n",
    "    for filename in os.listdir(directory):\n",
    "        with open(directory+'/'+filename) as f:\n",
    "            print(filename)\n",
    "            lines = f.readlines()\n",
    "            f.close()\n",
    "\n",
    "            title = filename[:-4]\n",
    "            summary, lines = split_data(lines)\n",
    "            if lines is None:\n",
    "                continue\n",
    "            summary, lines = split_summary(summary), split_string(lines)\n",
    "\n",
    "            if include_text:\n",
    "                clean_text = []\n",
    "                tex_count = 0\n",
    "                for line in lines:\n",
    "                    temp = clean(line)\n",
    "                    if temp != []:\n",
    "                        tex_count += (len(temp))\n",
    "                        for t in temp:\n",
    "                            clean_text.append(t)  \n",
    "                text_overall.append(clean_text)\n",
    "                text_count.append(tex_count)\n",
    "\n",
    "            clean_summary = []\n",
    "            sum_count = 0\n",
    "            for line in summary:\n",
    "                temp = clean(line)\n",
    "                if temp != []:\n",
    "                    sum_count+= (len(temp))\n",
    "                    for t in temp:\n",
    "                        clean_summary.append(t)\n",
    "            summary_overall.append(clean_summary)\n",
    "            summary_count.append(sum_count)   \n",
    "\n",
    "            title_overall.append(title)  \n",
    "\n",
    "            if limited is True:\n",
    "                if len(title_overall)>= 500:\n",
    "                    break\n",
    "\n",
    "\n",
    "    ## Store sentence vectors:\n",
    "    #max_text_len = 20000\n",
    "    #max_summary_len = 200\n",
    "    #if only_summary is False:\n",
    "    tokenizer = Tokenizer()\n",
    "    if include_text:\n",
    "        \n",
    "        tokenizer.fit_on_texts(text_overall)\n",
    "\n",
    "        text_vec = tokenizer.texts_to_sequences(text_overall)\n",
    "\n",
    "        #x_train = pad_sequences(x_train, maxlen=max_text_len, padding='post', truncating='post')\n",
    "        #x_test = pad_sequences(x_train, maxlen=max_text_len, padding='post', truncating='post')\n",
    "\n",
    "\n",
    "        text_voc_size = len(tokenizer.word_index)+1\n",
    "    else:\n",
    "        text_vec = list()\n",
    "        text_voc_size = 0\n",
    "\n",
    "    y_tokenizer = Tokenizer()\n",
    "    y_tokenizer.fit_on_texts(summary_overall)\n",
    "\n",
    "    sum_vec = y_tokenizer.texts_to_sequences(summary_overall)\n",
    "\n",
    "\n",
    "    #y_train = pad_sequences(y_train, maxlen=max_summary_len, padding='post', truncating='post')\n",
    "    #y_test = pad_sequences(y_train, maxlen=max_summary_len, padding='post', truncating='post')\n",
    "\n",
    "\n",
    "    sum_voc_size = len(y_tokenizer.word_index)+1\n",
    "\n",
    "\n",
    "    \n",
    "\n",
    "    ## Save the preprocessed data to file\n",
    "    np.savez('preprocessed', text_word2vec = text_vec, summary_word2vec = sum_vec, labels=title_overall,\n",
    "                                text_voc_size=text_voc_size, summary_voc_size=sum_voc_size,\n",
    "                            )\n",
    "    if one_hot is True:\n",
    "        if include_text:\n",
    "            text_ex, text_count= one_hot_all(text_vec, text_voc_size)\n",
    "        else:\n",
    "            text_count = []\n",
    "            text_ex = []\n",
    "        sum_ex, sum_count = one_hot_all(sum_vec, sum_voc_size)\n",
    "        # vectorizer = CountVectorizer()\n",
    "        # X = vectorizer.fit_transform(text_vec)\n",
    "        np.savez('preprocessed_oh', text_word2vec = text_vec, summary_word2vec = sum_vec, text_existence=text_ex,text_count=text_count, \n",
    "                                    summary_existence=sum_ex,summary_count=sum_count, labels=title_overall, text_voc_size=text_voc_size, summary_voc_size=sum_voc_size,\n",
    "                            )"
   ]
  },
  {
   "cell_type": "markdown",
   "metadata": {},
   "source": [
    "# Preprocessing"
   ]
  },
  {
   "cell_type": "code",
   "execution_count": 49,
   "metadata": {},
   "outputs": [],
   "source": [
    "stop_words = set([\"i\", \"me\", \"my\", \"myself\", \"we\", \"our\", \"ours\", \"ourselves\", \"you\", \"your\", \"yours\", \"yourself\", \"yourselves\", \"he\", \"him\", \"his\", \"himself\", \"she\", \"her\", \"hers\", \"herself\", \"it\", \"its\", \"itself\", \"they\", \"them\", \"their\", \"theirs\", \"themselves\", \"what\", \"which\", \"who\", \"whom\", \"this\", \"that\", \"these\", \"those\", \"am\", \"is\", \"are\", \"was\", \"were\", \"be\", \"been\", \"being\", \"have\", \"has\", \"had\", \"having\", \"do\", \"does\", \"did\", \"doing\", \"a\", \"an\", \"the\", \"and\", \"but\", \"if\", \"or\", \"because\", \"as\", \"until\", \"while\", \"of\", \"at\", \"by\", \"for\", \"with\", \"about\", \"against\", \"between\", \"into\", \"through\", \"during\", \"before\", \"after\", \"above\", \"below\", \"to\", \"from\", \"up\", \"down\", \"in\", \"out\", \"on\", \"off\", \"over\", \"under\", \"again\", \"further\", \"then\", \"once\", \"here\", \"there\", \"when\", \"where\", \"why\", \"how\", \"all\", \"any\", \"both\", \"each\", \"few\", \"more\", \"most\", \"other\", \"some\", \"such\", \"no\", \"nor\", \"not\", \"only\", \"own\", \"same\", \"so\", \"than\", \"too\", \"very\", \"s\", \"t\", \"can\", \"will\", \"just\", \"don\", \"should\", \"now\"]) \n",
    "contraction_mapping = {\"ain't\": \"is not\", \"aren't\": \"are not\",\"can't\": \"cannot\", \"'cause\": \"because\", \"could've\": \"could have\", \"couldn't\": \"could not\",\n",
    "                           \"didn't\": \"did not\",  \"doesn't\": \"does not\", \"don't\": \"do not\", \"hadn't\": \"had not\", \"hasn't\": \"has not\", \"haven't\": \"have not\",\n",
    "                           \"he'd\": \"he would\",\"he'll\": \"he will\", \"he's\": \"he is\", \"how'd\": \"how did\", \"how'd'y\": \"how do you\", \"how'll\": \"how will\", \"how's\": \"how is\",\n",
    "                           \"I'd\": \"I would\", \"I'd've\": \"I would have\", \"I'll\": \"I will\", \"I'll've\": \"I will have\",\"I'm\": \"I am\", \"I've\": \"I have\", \"i'd\": \"i would\",\n",
    "                           \"i'd've\": \"i would have\", \"i'll\": \"i will\",  \"i'll've\": \"i will have\",\"i'm\": \"i am\", \"i've\": \"i have\", \"isn't\": \"is not\", \"it'd\": \"it would\",\n",
    "                           \"it'd've\": \"it would have\", \"it'll\": \"it will\", \"it'll've\": \"it will have\",\"it's\": \"it is\", \"let's\": \"let us\", \"ma'am\": \"madam\",\n",
    "                           \"mayn't\": \"may not\", \"might've\": \"might have\",\"mightn't\": \"might not\",\"mightn't've\": \"might not have\", \"must've\": \"must have\",\n",
    "                           \"mustn't\": \"must not\", \"mustn't've\": \"must not have\", \"needn't\": \"need not\", \"needn't've\": \"need not have\",\"o'clock\": \"of the clock\",\n",
    "                           \"oughtn't\": \"ought not\", \"oughtn't've\": \"ought not have\", \"shan't\": \"shall not\", \"sha'n't\": \"shall not\", \"shan't've\": \"shall not have\",\n",
    "                           \"she'd\": \"she would\", \"she'd've\": \"she would have\", \"she'll\": \"she will\", \"she'll've\": \"she will have\", \"she's\": \"she is\",\n",
    "                           \"should've\": \"should have\", \"shouldn't\": \"should not\", \"shouldn't've\": \"should not have\", \"so've\": \"so have\",\"so's\": \"so as\",\n",
    "                           \"this's\": \"this is\",\"that'd\": \"that would\", \"that'd've\": \"that would have\", \"that's\": \"that is\", \"there'd\": \"there would\",\n",
    "                           \"there'd've\": \"there would have\", \"there's\": \"there is\", \"here's\": \"here is\",\"they'd\": \"they would\", \"they'd've\": \"they would have\",\n",
    "                           \"they'll\": \"they will\", \"they'll've\": \"they will have\", \"they're\": \"they are\", \"they've\": \"they have\", \"to've\": \"to have\",\n",
    "                           \"wasn't\": \"was not\", \"we'd\": \"we would\", \"we'd've\": \"we would have\", \"we'll\": \"we will\", \"we'll've\": \"we will have\", \"we're\": \"we are\",\n",
    "                           \"we've\": \"we have\", \"weren't\": \"were not\", \"what'll\": \"what will\", \"what'll've\": \"what will have\", \"what're\": \"what are\",\n",
    "                           \"what's\": \"what is\", \"what've\": \"what have\", \"when's\": \"when is\", \"when've\": \"when have\", \"where'd\": \"where did\", \"where's\": \"where is\",\n",
    "                           \"where've\": \"where have\", \"who'll\": \"who will\", \"who'll've\": \"who will have\", \"who's\": \"who is\", \"who've\": \"who have\",\n",
    "                           \"why's\": \"why is\", \"why've\": \"why have\", \"will've\": \"will have\", \"won't\": \"will not\", \"won't've\": \"will not have\",\n",
    "                           \"would've\": \"would have\", \"wouldn't\": \"would not\", \"wouldn't've\": \"would not have\", \"y'all\": \"you all\",\n",
    "                           \"y'all'd\": \"you all would\",\"y'all'd've\": \"you all would have\",\"y'all're\": \"you all are\",\"y'all've\": \"you all have\",\n",
    "                           \"you'd\": \"you would\", \"you'd've\": \"you would have\", \"you'll\": \"you will\", \"you'll've\": \"you will have\",\n",
    "                           \"you're\": \"you are\", \"you've\": \"you have\"}"
   ]
  },
  {
   "cell_type": "code",
   "execution_count": 55,
   "metadata": {},
   "outputs": [],
   "source": [
    "def preprocess(text):\n",
    "    newString = text.lower()\n",
    "    newString = re.sub(r'\\([^)]*\\)', '', newString)\n",
    "    newString = re.sub('\"','', newString)\n",
    "    newString = ' '.join([contraction_mapping[t] if t in contraction_mapping else t for t in newString.split(\" \")])    \n",
    "    newString = re.sub(r\"'s\\b\",\"\",newString)\n",
    "    newString = re.sub(\"[^a-zA-Z]\", \" \", newString) \n",
    "    newString = re.sub('[m]{2,}', 'mm', newString)\n",
    "    tokens = [w for w in newString.split() if not w in stop_words]\n",
    "    long_words=[]\n",
    "    for i in tokens:\n",
    "        if len(i)>1:                                          \n",
    "            long_words.append(i)   \n",
    "    return (\" \".join(long_words)).strip()"
   ]
  },
  {
   "cell_type": "code",
   "execution_count": 62,
   "metadata": {},
   "outputs": [],
   "source": [
    "preprocessed_docs = []\n",
    "for doc in doc_list:\n",
    "    preprocessed_docs.append(preprocess(doc)) "
   ]
  },
  {
   "cell_type": "markdown",
   "metadata": {},
   "source": [
    "# Vectorize documents"
   ]
  },
  {
   "cell_type": "code",
   "execution_count": 63,
   "metadata": {},
   "outputs": [],
   "source": [
    "spacy_model = spacy.load(\"en_core_web_sm\")"
   ]
  },
  {
   "cell_type": "code",
   "execution_count": 64,
   "metadata": {},
   "outputs": [],
   "source": [
    "def vectorize(docs):\n",
    "    vec_list = list()\n",
    "    for doc in docs:\n",
    "        doc_model = spacy_model(doc)\n",
    "        doc_vec = np.zeros(doc_model[0].vector.shape)\n",
    "        for tok in doc_model:\n",
    "            if tok.text not in stop_words:\n",
    "                doc_vec += tok.vector\n",
    "        vec_list.append(doc_vec)\n",
    "    return vec_list"
   ]
  },
  {
   "cell_type": "code",
   "execution_count": 65,
   "metadata": {},
   "outputs": [],
   "source": [
    "vec_list = vectorize(preprocessed_docs)"
   ]
  },
  {
   "cell_type": "markdown",
   "metadata": {},
   "source": [
    "# Cluster and plot"
   ]
  },
  {
   "cell_type": "code",
   "execution_count": 66,
   "metadata": {},
   "outputs": [
    {
     "data": {
      "image/png": "[encoded data removed]",
      "text/plain": [
       "<Figure size 432x288 with 1 Axes>"
      ]
     },
     "metadata": {
      "needs_background": "light"
     },
     "output_type": "display_data"
    }
   ],
   "source": [
    "# reduce to two dimensions using pca\n",
    "pca = PCA(2)\n",
    "reduced_vec_list = pca.fit_transform(vec_list)\n",
    "\n",
    "# perform kmeans on the reduced data\n",
    "kmeans = KMeans(n_clusters= 3)\n",
    "label = kmeans.fit_predict(reduced_vec_list)\n",
    "\n",
    "# plot clusters\n",
    "u_labels = np.unique(label)\n",
    "for i in u_labels:\n",
    "    plt.scatter(reduced_vec_list[label == i , 0] , reduced_vec_list[label == i , 1] , label = i)\n",
    "plt.legend()\n",
    "plt.show()"
   ]
  }
 ],
 "metadata": {
  "interpreter": {
   "hash": "40d3a090f54c6569ab1632332b64b2c03c39dcf918b08424e98f38b5ae0af88f"
  },
  "kernelspec": {
   "display_name": "Python 3.8.5",
   "language": "python",
   "name": "python3"
  },
  "language_info": {
   "codemirror_mode": {
    "name": "ipython",
    "version": 3
   },
   "file_extension": ".py",
   "mimetype": "text/x-python",
   "name": "python",
   "nbconvert_exporter": "python",
   "pygments_lexer": "ipython3",
   "version": "3.8.5"
  }
 },
 "nbformat": 4,
 "nbformat_minor": 4
}
