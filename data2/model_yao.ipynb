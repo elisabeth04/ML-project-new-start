{
 "cells": [
  {
   "cell_type": "code",
   "execution_count": null,
   "metadata": {},
   "outputs": [],
   "source": [
    "import numpy as np\n",
    "import helper\n",
    "from matplotlib import pyplot as plt\n",
    "\n",
    "from sklearn.metrics import classification_report\n",
    "import pandas as pd"
   ]
  },
  {
   "cell_type": "markdown",
   "metadata": {},
   "source": [
    "## Load Preprocessed Data"
   ]
  },
  {
   "cell_type": "code",
   "execution_count": null,
   "metadata": {},
   "outputs": [],
   "source": [
    "data = np.load('./preprocessed_topic_oh.npz' ,allow_pickle= True)\n",
    "\n",
    "\n",
    "summary_vec = data['summary_word2vec']\n",
    "#text_existence = data['text_existence']\n",
    "#text_count = data['text_count']\n",
    "summary_existence = data['summary_existence']\n",
    "summary_count = data['summary_count']\n",
    "labels = data[\"labels\"]\n",
    "#text_voc_size = data['text_voc_size']\n",
    "summary_voc_size = data['summary_voc_size']\n",
    "data1 = np.load('./labels.npz' ,allow_pickle= True)\n",
    "group = data1[\"label\"]\n",
    "\n",
    "data2 = np.load('three_classes_title.npz',allow_pickle= True)\n",
    "history_titles = data2['history_titles']\n",
    "math_titles = data2['math_titles']\n",
    "philosophy_titles = data2['philosophy_titles']\n",
    "\n"
   ]
  },
  {
   "cell_type": "code",
   "execution_count": null,
   "metadata": {},
   "outputs": [],
   "source": []
  },
  {
   "cell_type": "code",
   "execution_count": null,
   "metadata": {},
   "outputs": [],
   "source": [
    "annotated_dict_list = {\"history_titles\": history_titles, \"math_titles\": math_titles, \"philosophy_titles\": philosophy_titles}"
   ]
  },
  {
   "cell_type": "code",
   "execution_count": null,
   "metadata": {},
   "outputs": [],
   "source": [
    "summary_existence.shape\n"
   ]
  },
  {
   "cell_type": "code",
   "execution_count": null,
   "metadata": {},
   "outputs": [],
   "source": [
    "input_size = summary_voc_size\n",
    "code_size = 2\n",
    "\n",
    "\n",
    "nonlinear_ae_com, nonlinear_encoder_com = helper.nonlinear_autoencoder_complex(input_size, code_size, \"mse\")\n",
    "history3 = nonlinear_ae_com.fit(summary_existence,summary_existence, epochs = 7)\n",
    "plt.plot(history3.history[\"loss\"])"
   ]
  },
  {
   "cell_type": "code",
   "execution_count": null,
   "metadata": {},
   "outputs": [],
   "source": [
    "summary_existence.shape"
   ]
  },
  {
   "cell_type": "code",
   "execution_count": null,
   "metadata": {},
   "outputs": [],
   "source": [
    "y_pred.shape"
   ]
  },
  {
   "cell_type": "code",
   "execution_count": null,
   "metadata": {},
   "outputs": [],
   "source": [
    "y_pred = nonlinear_ae_com.predict(summary_existence)\n",
    "\n",
    "for i in [0, 1, 2]:\n",
    "    \n",
    "    plt.scatter(y_pred[group == i , 0] , y_pred[group == i , 1] , group = i)\n",
    "#plt.scatter(y_pred[:, 0], y_pred[:, 1])#, cmap='rainbow', c=summary_count)\n"
   ]
  },
  {
   "cell_type": "code",
   "execution_count": null,
   "metadata": {},
   "outputs": [],
   "source": [
    "helper.random_knn(summary_existence, labels = labels, num= 10, knn = 5, metric = \"cosine\")"
   ]
  },
  {
   "cell_type": "code",
   "execution_count": null,
   "metadata": {},
   "outputs": [],
   "source": [
    "helper.random_knn(summary_existence, labels = labels, num= 10, knn = 5, metric = \"hamming\")"
   ]
  },
  {
   "cell_type": "markdown",
   "metadata": {},
   "source": [
    "## Analysis of Data"
   ]
  },
  {
   "cell_type": "markdown",
   "metadata": {},
   "source": [
    "# Experiments with existence of words in a summary"
   ]
  },
  {
   "cell_type": "code",
   "execution_count": null,
   "metadata": {},
   "outputs": [],
   "source": [
    "\n",
    "helper.plot_dendrogram(summary_existence,title = \"740 samples with three topics dendrogram using complete linkage existence of words in a summary\",titles_list = labels)"
   ]
  },
  {
   "cell_type": "code",
   "execution_count": null,
   "metadata": {},
   "outputs": [],
   "source": [
    "reduced_PCA_OG_matrix = helper.plot_pca(summary_existence,titles_list = labels,label=group, title = \"740 samples with three topics Summary Existence PCA\")"
   ]
  },
  {
   "cell_type": "code",
   "execution_count": null,
   "metadata": {},
   "outputs": [],
   "source": [
    "classes_PCA_OG_matrix = helper.compute_kmeans(reduced_PCA_OG_matrix,titles_list = labels, title= \"Kmeans PCA OG Matrix\")"
   ]
  },
  {
   "cell_type": "code",
   "execution_count": null,
   "metadata": {},
   "outputs": [],
   "source": [
    "\n",
    "stats, acc = helper.statistics(group,classes_PCA_OG_matrix)\n",
    "stats"
   ]
  },
  {
   "cell_type": "code",
   "execution_count": null,
   "metadata": {},
   "outputs": [],
   "source": [
    "reduced_TSNE_COS_matrix = helper.plot_tsne(summary_existence,labels,group, title=\"740 samples with three topics Summary Existence Tsne perp60 cosine\",metric= \"cosine\")"
   ]
  },
  {
   "cell_type": "code",
   "execution_count": null,
   "metadata": {},
   "outputs": [],
   "source": [
    "stats, acc = helper.statistics(group,reduced_TSNE_COS_matrix)\n",
    "stats"
   ]
  },
  {
   "cell_type": "code",
   "execution_count": null,
   "metadata": {},
   "outputs": [],
   "source": [
    "reduced_TSNE_HAM_matrix = helper.plot_tsne(summary_existence,labels,group, title=\"740 samples with three topics Summary Existence Tsne perp60 Hamming\",metric= \"hamming\")\n"
   ]
  },
  {
   "cell_type": "code",
   "execution_count": null,
   "metadata": {},
   "outputs": [],
   "source": [
    "stats, acc = helper.statistics(group,reduced_TSNE_HAM_matrix)\n",
    "stats"
   ]
  },
  {
   "cell_type": "code",
   "execution_count": null,
   "metadata": {},
   "outputs": [],
   "source": [
    "helper.plot_dendrogram(summary_existence,title = \"740 samples with three topics dendrogram using complete linkage yule metric existence of words in a summary\",dist_metric= \"yule\",titles_list = labels)"
   ]
  },
  {
   "cell_type": "code",
   "execution_count": null,
   "metadata": {},
   "outputs": [],
   "source": [
    "helper.plot_dendrogram(summary_existence,title = \"740 samples with three topics dendrogram using ward's algorithm on existence of words in a summary\",hierarchy_method=\"ward\", dist_metric=\"euclidean\",titles_list = labels)"
   ]
  },
  {
   "cell_type": "code",
   "execution_count": null,
   "metadata": {},
   "outputs": [],
   "source": [
    "helper.plot_dendrogram(summary_existence,title = \"740 samples with three topics dendrogram using complete linkage Hamming metric existence of words in a summary\",dist_metric= \"hamming\",titles_list = labels)"
   ]
  },
  {
   "cell_type": "code",
   "execution_count": null,
   "metadata": {},
   "outputs": [],
   "source": [
    "reduced_PCA_COS_matrix = helper.plot_kpca(summary_existence,labels, group, kernel=\"cosine\",title=\"740 samples with three topics samples cosine kernel PCA of existence of words in a summary\")"
   ]
  },
  {
   "cell_type": "code",
   "execution_count": null,
   "metadata": {},
   "outputs": [],
   "source": [
    "stats, acc = helper.statistics(group,reduced_PCA_COS_matrix)\n",
    "stats"
   ]
  },
  {
   "cell_type": "markdown",
   "metadata": {},
   "source": [
    "## Experiments with Summary counts"
   ]
  },
  {
   "cell_type": "code",
   "execution_count": null,
   "metadata": {},
   "outputs": [],
   "source": [
    "summary_count = np.array(summary_count)\n",
    "centered_sum_count = (summary_count - summary_count.mean())/summary_existence.std()\n",
    "helper.plot_dendrogram(centered_sum_ex,title = \"740 samples with three topics dendrogram using complete linkage cosine metric count of words in a summary\",titles_list = labels)"
   ]
  },
  {
   "cell_type": "code",
   "execution_count": null,
   "metadata": {},
   "outputs": [],
   "source": [
    "reduced_matrix = helper.plot_pca(summary_count,label=group, titles_list = labels, title = \"740 samples with three topics Summary count PCA\")"
   ]
  },
  {
   "cell_type": "code",
   "execution_count": null,
   "metadata": {},
   "outputs": [],
   "source": [
    "stats, acc = helper.statistics(group,reduced_matrix)\n",
    "stats"
   ]
  },
  {
   "cell_type": "code",
   "execution_count": null,
   "metadata": {},
   "outputs": [],
   "source": [
    "reduced_matrix = helper.plot_tsne(summary_count,labels,label = group, title=\"740 samples with three topics Summary Count Tsne perp60 cosine\",metric= \"cosine\")"
   ]
  },
  {
   "cell_type": "code",
   "execution_count": null,
   "metadata": {},
   "outputs": [],
   "source": [
    "stats, acc = helper.statistics(group,reduced_matrix)\n",
    "stats"
   ]
  },
  {
   "cell_type": "code",
   "execution_count": null,
   "metadata": {},
   "outputs": [],
   "source": [
    "reduced_matrix = helper.plot_tsne(summary_count,labels, label = group, title=\"740 samples with three topics Summary Count Tsne perp60 Yule\",metric= \"yule\")"
   ]
  },
  {
   "cell_type": "code",
   "execution_count": null,
   "metadata": {},
   "outputs": [],
   "source": [
    "stats, acc = helper.statistics(group,reduced_matrix)\n",
    "stats"
   ]
  },
  {
   "cell_type": "code",
   "execution_count": null,
   "metadata": {},
   "outputs": [],
   "source": [
    "helper.plot_dendrogram(summary_count,title = \"740 samples with three topics dendrogram using ward's algorithm on count of words in a summary\",hierarchy_method=\"ward\", dist_metric=\"euclidean\",titles_list = labels)"
   ]
  },
  {
   "cell_type": "code",
   "execution_count": null,
   "metadata": {},
   "outputs": [],
   "source": [
    "helper.plot_dendrogram(summary_count,title = \"740 samples with three topics dendrogram using complete linkage yule metric count of words in a summary\",dist_metric= \"yule\",titles_list = labels)"
   ]
  }
 ],
 "metadata": {
  "interpreter": {
   "hash": "c30f2af5f468e7f5b45bcc30fca5f4886c90d54777aed916ed5f6294dfb24bf2"
  },
  "kernelspec": {
   "display_name": "Python 3.8.5 ('base')",
   "language": "python",
   "name": "python3"
  },
  "language_info": {
   "codemirror_mode": {
    "name": "ipython",
    "version": 3
   },
   "file_extension": ".py",
   "mimetype": "text/x-python",
   "name": "python",
   "nbconvert_exporter": "python",
   "pygments_lexer": "ipython3",
   "version": "3.8.5"
  },
  "orig_nbformat": 4
 },
 "nbformat": 4,
 "nbformat_minor": 2
}
